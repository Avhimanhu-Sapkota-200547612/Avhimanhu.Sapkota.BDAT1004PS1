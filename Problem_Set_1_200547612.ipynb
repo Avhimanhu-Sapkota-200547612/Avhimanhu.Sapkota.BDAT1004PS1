{
 "cells": [
  {
   "cell_type": "markdown",
   "id": "9e627311",
   "metadata": {
    "slideshow": {
     "slide_type": "notes"
    }
   },
   "source": [
    "<h1><font color='#004b87'> Data Programming - Problem Set 1</font></h1> \n",
    "\n",
    "Prepared By: Avhimanhu Sapkota<br>\n",
    "Student ID: 200547612 "
   ]
  },
  {
   "cell_type": "markdown",
   "id": "c917af3e",
   "metadata": {
    "slideshow": {
     "slide_type": "slide"
    }
   },
   "source": [
    "<h3> Task 1  </h3>\n",
    "<h4> What data type is each of the following? </h4>\n",
    "\n",
    "5: Integer\n",
    "\n",
    "5.0: Float\n",
    "\n",
    "5 > 1: Boolean (True)\n",
    "\n",
    "\"5\": String\n",
    "\n",
    "5 * 2: Integer\n",
    "\n",
    "\"5\" * 2: String\n",
    "\n",
    "\"5\" + \"2\": String\n",
    "\n",
    "5 / 2: Float\n",
    "\n",
    "5 % 2: Integer\n",
    "\n",
    "{5, 2, 1}: List\n",
    "\n",
    "5 == 3: Boolean\n",
    "\n",
    "Pi (the number): Double"
   ]
  },
  {
   "cell_type": "markdown",
   "id": "2729a2b6",
   "metadata": {},
   "source": [
    "<h3> Task 2 </h3>\n",
    "<h4> A. How many letters are there in 'Supercalifragilisticexpialidocious'? </h4>"
   ]
  },
  {
   "cell_type": "code",
   "execution_count": null,
   "id": "677c8a6e",
   "metadata": {},
   "outputs": [],
   "source": [
    "using System;\n",
    "namespace Problem_Set_1\n",
    "{\n",
    "    public class Task2\n",
    "    {\n",
    "        public static void Main(string[] args)\n",
    "        {\n",
    "            // Assigns the given word to the string variable.\n",
    "            string givenWord = \"Supercalifragilisticexpialidocious\";\n",
    "\n",
    "            // Counts the number of letter using Length method and stores in integer variable.\n",
    "            int noOfLetters = givenWord.Length;\n",
    "\n",
    "            Console.WriteLine($\"The total number of letters in {givenWord} is {noOfLetters}\");\n",
    "        }\n",
    "    }\n",
    "} "
   ]
  },
  {
   "cell_type": "markdown",
   "id": "aee4f241",
   "metadata": {},
   "source": [
    "<h4> Output: </h4>\n",
    "The total number of letters in Supercalifragilisticexpialidocious is 34"
   ]
  },
  {
   "cell_type": "markdown",
   "id": "0a16f80e",
   "metadata": {},
   "source": [
    "<h4> B. Does 'Supercalifragilisticexpialidocious' contain 'ice' as a substring? </h4>"
   ]
  },
  {
   "cell_type": "code",
   "execution_count": null,
   "id": "cd601c09",
   "metadata": {},
   "outputs": [],
   "source": [
    "using System;\n",
    "namespace Problem_Set_1\n",
    "{\n",
    "    public class Task2\n",
    "    {\n",
    "        public static void Main(string[] args)\n",
    "        {\n",
    "            // Assigns the given word to the string variable.\n",
    "            string givenWord = \"Supercalifragilisticexpialidocious\";\n",
    "\n",
    "            // Checks if givenWord contains ice using Contains method and displays the output\n",
    "            if (givenWord.Contains(\"ice\"))\n",
    "                Console.WriteLine($\"Yes, {givenWord} contains ice as substring\");\n",
    "            else\n",
    "                Console.WriteLine($\"No, {givenWord} does not contain ice as substring\");\n",
    "        }\n",
    "    }\n",
    "} "
   ]
  },
  {
   "cell_type": "markdown",
   "id": "27cb8bb0",
   "metadata": {},
   "source": [
    "<h4> Output: </h4>\n",
    "Yes, Supercalifragilisticexpialidocious contains ice as substring"
   ]
  },
  {
   "cell_type": "markdown",
   "id": "8290a27f",
   "metadata": {},
   "source": [
    "<h4> C. Which of the following words is the longest: \n",
    "Supercalifragilisticexpialidocious, Honorificabilitudinitatibus, or \n",
    "Bababadalgharaghtakamminarronnkonn? </h4>"
   ]
  },
  {
   "cell_type": "code",
   "execution_count": null,
   "id": "65a4bde3",
   "metadata": {},
   "outputs": [],
   "source": [
    "using System;\n",
    "namespace Problem_Set_1\n",
    "{\n",
    "    public class Task2\n",
    "    {\n",
    "        public static void Main(string[] args)\n",
    "        {\n",
    "            // Assigns all the given words to the string variables respectively.\n",
    "            string firstWord = \"Supercalifragilisticexpialidocious\";\n",
    "            string secondWord = \"Honorificabilitudinitatibus\";\n",
    "            string thirdWord = \"Bababadalgharaghtakamminarronnkonn\";\n",
    "            \n",
    "            // Checks if length of first word is greater than second and third word. If true, displays first word as longest.\n",
    "            if (firstWord.Length > secondWord.Length && firstWord.Length > thirdWord.Length)\n",
    "            {\n",
    "                Console.WriteLine($\"The Longest word is {firstWord}\");\n",
    "            }\n",
    "            // Compares if length of second word is greater than first and third word. If true, displays second word as longest.\n",
    "            else if (secondWord.Length > firstWord.Length  && secondWord.Length > thirdWord.Length)\n",
    "            {\n",
    "                Console.WriteLine($\"The Longest word is {secondWord}\");\n",
    "            }\n",
    "            // If both conditions were not true displays third word as longest\n",
    "            else\n",
    "            {\n",
    "                Console.WriteLine($\"The Longest word is {thirdWord}\");\n",
    "            }\n",
    "                \n",
    "        }\n",
    "    }\n",
    "} "
   ]
  },
  {
   "cell_type": "markdown",
   "id": "2a78ebee",
   "metadata": {},
   "source": [
    "<h4> Output: </h4>\n",
    "The Longest word is Bababadalgharaghtakamminarronnkonn"
   ]
  },
  {
   "cell_type": "markdown",
   "id": "429f47b4",
   "metadata": {},
   "source": [
    "<h4> D. Which composer comes first in the dictionary: 'Berlioz', 'Borodin', 'Brian', \n",
    "'Bartok', 'Bellini', 'Buxtehude', 'Bernstein'. Which one comes last? </h4>"
   ]
  },
  {
   "cell_type": "code",
   "execution_count": null,
   "id": "9f692211",
   "metadata": {},
   "outputs": [],
   "source": [
    "using System;\n",
    "namespace Problem_Set_1\n",
    "{\n",
    "    public class Task2\n",
    "    {\n",
    "        public static void Main(string[] args)\n",
    "        {\n",
    "            // Puts all composers in a string array\n",
    "            string[] composersArray = { \"Berlioz\", \"Borodin\", \"Brian\", \"Bartok\", \"Bellini\", \"Buxtehude\", \"Bernstein\" };\n",
    "            \n",
    "            // Sorts the provided list of composers within the array using Sort funtion\n",
    "            Array.Sort(composersArray);\n",
    "            \n",
    "            // Counts the number of strings in the array and decreased it by 1 to identify last index of array.\n",
    "            int lastIndex = composersArray.Length - 1;\n",
    "            \n",
    "            // Displays the composers who came first and last on the basis of sorting\n",
    "            Console.WriteLine($\"The composer who came first after Sorting is {composersArray[0]}\");\n",
    "            Console.WriteLine($\"The composer who was last after Sorting is {composersArray[lastIndex]}\");\n",
    "        }\n",
    "    }\n",
    "} "
   ]
  },
  {
   "cell_type": "markdown",
   "id": "fd428a4a",
   "metadata": {},
   "source": [
    "<h4> Output: </h4>\n",
    "The composer who came first after Sorting is Bartok<br>\n",
    "The composer who was last after Sorting is Buxtehude"
   ]
  },
  {
   "cell_type": "markdown",
   "id": "5e7560ef",
   "metadata": {},
   "source": [
    "<h3> Task 3 </h3>\n",
    "<h4> Implement function triangleArea(a,b,c) that takes as input the lengths of the 3 sides of a triangle and returns the area of the triangle. \n",
    " </h4>"
   ]
  },
  {
   "cell_type": "code",
   "execution_count": null,
   "id": "7c5f25f3",
   "metadata": {},
   "outputs": [],
   "source": [
    "using System;\n",
    "namespace Problem_Set_1\n",
    "{\n",
    "    public class Task3\n",
    "    {\n",
    "        public static void Main(string[] args)\n",
    "        {\n",
    "            // Takes length of each side of the triangle and stores it in double variables.\n",
    "            Console.Write (\"Enter length of first side of the triangle: \");\n",
    "            double firstSide = Double.Parse(Console.ReadLine());\n",
    "            Console.Write (\"Enter length of second side of the triangle: \");\n",
    "            double secondSide = Double.Parse(Console.ReadLine());\n",
    "            Console.Write (\"Enter length of third side of the triangle: \");\n",
    "            double thirdSide = Double.Parse(Console.ReadLine());\n",
    "            \n",
    "            // calls function triangleArea which takes length of sides as parameters to calculate the area of triangle.\n",
    "            double area = triangleArea(firstSide, secondSide, thirdSide);\n",
    "            \n",
    "            // Displays the area of triangle\n",
    "            Console.WriteLine($\"The area of Triange with sides {firstSide}, {secondSide} and {thirdSide} is {area}\");\n",
    "        }\n",
    "        \n",
    "        // Function that calculates area of triangle and returns the calculated value.\n",
    "        static double triangleArea(double a, double b, double c)\n",
    "        {\n",
    "            // Calculates value of s with respect to given formula.\n",
    "            double s = (a + b + c) / 2;\n",
    "            \n",
    "            // Calculates area of triangle with respect to given formula.\n",
    "            double area = Math.Sqrt(s * (s - a) * (s - b) * (s - c));\n",
    "            \n",
    "            return area;\n",
    "        }\n",
    "    }\n",
    "} "
   ]
  },
  {
   "cell_type": "markdown",
   "id": "631ede13",
   "metadata": {},
   "source": [
    "<h4> Output: </h4>\n",
    "    Enter length of first side of the triangle: 2<br>\n",
    "    Enter length of second side of the triangle: 2<br>\n",
    "    Enter length of third side of the triangle: 2 <br>\n",
    "    The area of Triange with sides 2, 2 and 2 is 1.7320508075688772"
   ]
  },
  {
   "cell_type": "markdown",
   "id": "41a40138",
   "metadata": {},
   "source": [
    "<h3> Task 4 </h3>\n",
    "<h4> Write a program in C# Sharp to separate odd and even integers in separate arrays. \n",
    " </h4>"
   ]
  },
  {
   "cell_type": "code",
   "execution_count": null,
   "id": "e3473ee8",
   "metadata": {},
   "outputs": [],
   "source": [
    "using System;\n",
    "namespace Problem_Set_1\n",
    "{\n",
    "    public class Task4\n",
    "    {\n",
    "        public static void Main(string[] args)\n",
    "        {\n",
    "            // Creates array to store for even and odd input from user.\n",
    "            // Here, Input limit is 10 numbers as array needs to be predefined.\n",
    "            int[] oddArray = new int[10];\n",
    "            int[] evenArray = new int[10];\n",
    "\n",
    "            // Integer index for even and odd array\n",
    "            int evenIndex = 0, oddIndex = 0;\n",
    "\n",
    "            // Prompts user for total number of elements desired and stores it in integer variable after conversion from string to integer\n",
    "            Console.Write(\"Enter the number of elements to be stored in the array: \");\n",
    "            int numOfElements = Convert.ToInt32(Console.ReadLine());\n",
    "\n",
    "            Console.WriteLine($\"Enter {numOfElements} elements below: \");\n",
    "            // Loop that prompts user for numbers, check it is odd or even and stores in different arrays.\n",
    "            for (int i = 0; i < numOfElements; i++)\n",
    "            {\n",
    "                Console.Write($\"Element - {i}: \");\n",
    "                int inputNumber = Convert.ToInt32(Console.ReadLine());\n",
    "\n",
    "                // Checks if input number is even by dividing it with 2, if yes stores it in even array and increases its index\n",
    "                if (inputNumber % 2 == 0)\n",
    "                {\n",
    "                    evenArray[evenIndex] = inputNumber;\n",
    "                    evenIndex++;\n",
    "                }\n",
    "                else   // If not divisible by 2, stores the number in odd array and increases the index for odd array\n",
    "                {\n",
    "                    oddArray[oddIndex] = inputNumber;\n",
    "                    oddIndex++;\n",
    "                }\n",
    "            }\n",
    "\n",
    "            // Iterates through the array and prints even numbers\n",
    "            Console.WriteLine(\"\\nThe elements in even array are: \");\n",
    "            for (int i = 0; i < evenIndex; i++)\n",
    "                Console.Write(evenArray[i] + \" \");\n",
    "\n",
    "            // Iterates through the array and prints odd numbers\n",
    "            Console.WriteLine(\"\\nThe elements in even array are: \");\n",
    "            for (int i = 0; i < oddIndex; i++)\n",
    "                Console.Write(oddArray[i] + \" \");\n",
    "        }\n",
    "    }\n",
    "} "
   ]
  },
  {
   "cell_type": "markdown",
   "id": "3dd5a622",
   "metadata": {},
   "source": [
    "<h4> Output: </h4>\n",
    "Enter the number of elements to be stored in the array: 5 <br>\n",
    "Enter 5 elements below: <br>\n",
    "Element - 0 : 25<br>\n",
    "Element - 1 : 47<br>\n",
    "Element - 2 : 42<br>\n",
    "Element - 3 : 56<br>\n",
    "Element - 4 : 32 <br>\n",
    "<br>\n",
    "The elements in even array are:<br>\n",
    "42 56 32<br>\n",
    "The elements in even array are:<br>\n",
    "25 47<br>\n"
   ]
  },
  {
   "cell_type": "markdown",
   "id": "f74c1b27",
   "metadata": {},
   "source": [
    "<h3> Task 5 </h3>\n",
    "<h4> A. Write a function inside(x,y,x1,y1,x2,y2) that returns True or False \n",
    "depending on whether the point(x,y) lies in the rectangle with lower left \n",
    "corner (x1,y1) and upper right corner (x2,y2).\n",
    "<br><br>\n",
    "B. Use function inside()from part a. to write an expression that tests whether \n",
    "the point (1,1) lies in both of the following rectangles: one with lower left \n",
    "corner (0.3, 0.5) and upper right corner (1.1, 0.7) and the other with lower \n",
    "left corner (0.5, 0.2) and upper right corner (1.1, 2)\n",
    "</h4>"
   ]
  },
  {
   "cell_type": "code",
   "execution_count": null,
   "id": "5dc9a20a",
   "metadata": {},
   "outputs": [],
   "source": [
    "using System;\n",
    "namespace Problem_Set_1\n",
    "{\n",
    "    public class Task4\n",
    "    {\n",
    "        public static void Main(string[] args)\n",
    "        {\n",
    "            // Test case scenario for Part - A\n",
    "            // Calls the Function inside and stores returned value in boolean variable\n",
    "            bool checkCoordinate1 = inside(1, 1, 0, 0, 2, 3);\n",
    "            bool checkCoordinate2 = inside(-1, -1, 0, 0, 2, 3);\n",
    "            Console.WriteLine(\"Does the co-ordinate (1,1) lie inside the rectangle (0,0) to (2,3)?\\n\" + checkCoordinate1);\n",
    "            Console.WriteLine(\"\\nDoes the co-ordinate (-1,-1) lie inside the rectangle (0,0) to (2,3)?\\n\" + checkCoordinate2);\n",
    "\n",
    "            // Test case scenario for Part - B\n",
    "\n",
    "            // Part B - Calls the function with the provided coordinates from the question\n",
    "            bool checkRectangle1 = inside(1, 1, 0.3, 0.5, 1.1, 0.7);\n",
    "            bool checkRectangle2 = inside(1, 1, 0.5, 0.2, 1.1, 2);\n",
    "\n",
    "\n",
    "            // Checks if (1,1) lies under both rectangles with the provided coordinates and displays it to the user\n",
    "            Console.WriteLine(\"\\nDoes the point (1,1) lie within rectangle 1: (0.3, 0.5) and (1.1, 0.7) and rectangle 2: (0.5, 0.2) and (1.1, 2)?\");\n",
    "\n",
    "            if (checkRectangle1 && checkRectangle2)\n",
    "                Console.WriteLine(\"Yes, (1,1) lies in both of the rectangles at once\");\n",
    "            else\n",
    "                Console.WriteLine(\"No, (1,1) doesnot lie in both of the rectangles at once\");\n",
    "        }\n",
    "        \n",
    "        // Part A - Function that checks if the point (x,y) lies in the rectangle given the lower left and upper left corners\n",
    "        static bool inside(double x, double y, double x1, double y1, double x2, double y2)\n",
    "        {\n",
    "            // Checks if the coordinates lie within the coordinates of rectangle\n",
    "            if (x >= x1 && x <= x2 && y >= y1 && y <= y2)\n",
    "                return true;\n",
    "            else\n",
    "                return false;\n",
    "        }\n",
    "    }\n",
    "} "
   ]
  },
  {
   "cell_type": "markdown",
   "id": "26e8f15f",
   "metadata": {},
   "source": [
    "<h4> Output: </h4>\n",
    "Does the co-ordinate (1,1) lie inside the rectangle (0,0) to (2,3)?<br>\n",
    "True<br>\n",
    "<br>\n",
    "Does the co-ordinate (-1,-1) lie inside the rectangle (0,0) to (2,3)?<br>\n",
    "False<br>\n",
    "<br>\n",
    "Does the point (1,1) lie within rectangle 1: (0.3, 0.5) and (1.1, 0.7) and rectangle 2: (0.5, 0.2) and (1.1, 2)?<br>\n",
    "No, (1,1) doesnot lie in both of the rectangles at once"
   ]
  },
  {
   "cell_type": "markdown",
   "id": "599fdfea",
   "metadata": {},
   "source": [
    "<h3> Task 6 </h3>\n",
    "<h4> Write a function pig() that takes a word (i.e., a string) as input and returns its pig-Latin form. \n",
    "Your function should still work if the input word contains upper case \n",
    "characters. Your output should always be lower case however.\n",
    "</h4>"
   ]
  },
  {
   "cell_type": "code",
   "execution_count": 16,
   "id": "77478092",
   "metadata": {},
   "outputs": [
    {
     "name": "stdout",
     "output_type": "stream",
     "text": [
      "Enter a string to turn it into pig-Latin:Yatch\n",
      "The pig-Latin of Yatch is atchyay\n"
     ]
    }
   ],
   "source": [
    "# Function Pig that converts words to pig-Latin Format. \n",
    "# Takes string as parameter and returns converted string.\n",
    "def pig(word):\n",
    "    # List of vowel letters \n",
    "    vowels = ['a','e','i','o','u']\n",
    "    # Converts the word to lowercase\n",
    "    word = word.lower()\n",
    "    \n",
    "    # Checks if first letter has vowel and converts on the basis of given technique\n",
    "    if word[0] in vowels:\n",
    "        return word + 'way'\n",
    "    else:\n",
    "        return word[1:] + word[0] + 'ay'\n",
    "\n",
    "# Takes input from User and stores it as string\n",
    "word = input(\"Enter a string to turn it into pig-Latin: \")\n",
    "\n",
    "# Calls the function Pig, gets the converted string and displays it.\n",
    "print(f\"The pig-Latin of {word} is {pig(word)}\");\n"
   ]
  },
  {
   "cell_type": "markdown",
   "id": "7380921f",
   "metadata": {},
   "source": [
    "<h3> Task 7 </h3>\n",
    "<h4> File bloodtype1.txt records blood-types of patients (A, B, AB, O or OO) at a clinic. Write a function bldcount() that reads the file with name name and reports (i.e., prints) how many patients there are in each bloodtype\n",
    "</h4>"
   ]
  },
  {
   "cell_type": "code",
   "execution_count": 34,
   "id": "a796ea44",
   "metadata": {},
   "outputs": [
    {
     "name": "stdout",
     "output_type": "stream",
     "text": [
      "There are 15 patients of blood group A.\n",
      "There are 1 patients of blood group B.\n",
      "There are 13 patients of blood group AB.\n",
      "There are 15 patients of blood group O.\n",
      "There are 0 patients of blood group OO.\n"
     ]
    }
   ],
   "source": [
    "# Function that counts the patients of each blood group from the file\n",
    "def bldcount(filename):\n",
    "    \n",
    "    # Dictionary to store the number of patient of each blood group type\n",
    "    bloodCounts = {'A': 0, 'B': 0, 'AB': 0, 'O': 0, 'OO': 0}\n",
    "    \n",
    "    # Opens the file using open function in read-only mode.\n",
    "    with open(filename, 'r') as file:\n",
    "        # Reads and splits the data in the file using space\n",
    "        fileData = file.read().split() \n",
    "        \n",
    "        # Loop that iterates to read each blood type mentioned in file \n",
    "        for bloodType in fileData:\n",
    "            # Checks each blood type and updates the count in the dictionary\n",
    "            if bloodType in bloodCounts:\n",
    "                bloodCounts[bloodType] = bloodCounts[bloodType] + 1\n",
    "    \n",
    "        # Print the blood type counts\n",
    "        for bloodType, count in bloodCounts.items():\n",
    "            print(f\"There are {count} patients of blood group {bloodType}.\")\n",
    "            \n",
    "# Calls the function with the filename            \n",
    "bldcount('bloodtype.txt')\n",
    "    "
   ]
  },
  {
   "cell_type": "markdown",
   "id": "af29d37c",
   "metadata": {},
   "source": [
    "<h3> Task 8 </h3>\n",
    "<h4> Write a function curconv() that takes as input:\n",
    "<ol><li>a currency represented using a string (e.g., 'JPY' for the Japanese Yen or \n",
    "'EUR' for the Euro)</li>\n",
    "<li>an amount</li></ol>\n",
    "and then converts and returns the amount in US dollars.<br>The currency rates you will need are stored in file currencies.txt</h4>"
   ]
  },
  {
   "cell_type": "code",
   "execution_count": 40,
   "id": "5d3e7bf4",
   "metadata": {},
   "outputs": [
    {
     "name": "stdout",
     "output_type": "stream",
     "text": [
      "The USD equivalent of EUR 100 is USD 122.96544\n",
      "The USD equivalent of JPY 100 is USD 1.241401\n",
      "The USD equivalent of NOK 100 is USD 16.77063\n",
      "The USD equivalent of SGD 100 is USD 78.8871\n"
     ]
    }
   ],
   "source": [
    "# Function that converts the currency to US dollars \n",
    "# Takes file that has conversion rate as parameter 1 and amount\n",
    "def curconv(currency, amount):\n",
    "    \n",
    "    # A dictionary to store conversion rates from the file\n",
    "    conversionRate = {}\n",
    "    \n",
    "    # Opens the file using open function in read-only mode.\n",
    "    with open(\"currencies.txt\", 'r') as file:\n",
    "        for eachLine in file:\n",
    "            # Splits the data of each line using tab space and stores as array\n",
    "            splittedData = eachLine.split(\"\\t\")\n",
    "            \n",
    "            # Stores the splitted data into conversionRate dictionary\n",
    "            conversionRate[splittedData[0]] = splittedData[1]\n",
    "            \n",
    "        # Converts the entered amount of specific currency to USD equivalent    \n",
    "        usdEquivalent = float(conversionRate[currency]) * amount\n",
    "        print(f\"The USD equivalent of {currency} {amount} is USD {usdEquivalent}\")\n",
    "        \n",
    "# Call the Function with desired Currency and\n",
    "curconv(\"EUR\", 100)\n",
    "curconv(\"JPY\", 100)\n",
    "curconv(\"NOK\", 100)\n",
    "curconv(\"SGD\", 100)"
   ]
  },
  {
   "cell_type": "markdown",
   "id": "447e1e5d",
   "metadata": {},
   "source": [
    "<h3> Task 9 </h3>\n",
    "<h4> Each of the following will cause an exception (an error). Identify what type of \n",
    "exception each will cause.\n",
    "</h4>"
   ]
  },
  {
   "cell_type": "markdown",
   "id": "f1dc5867",
   "metadata": {},
   "source": [
    "<h4> Trying to add incompatible variables, as in adding 6 + ‘a’ gives the following error:<br> </h4>\n",
    "    TypeError: unsupported operand type(s) for +: 'int' and 'str'\n"
   ]
  },
  {
   "cell_type": "code",
   "execution_count": 48,
   "id": "d71c6388",
   "metadata": {},
   "outputs": [
    {
     "ename": "TypeError",
     "evalue": "unsupported operand type(s) for +: 'int' and 'str'",
     "output_type": "error",
     "traceback": [
      "\u001b[0;31m---------------------------------------------------------------------------\u001b[0m",
      "\u001b[0;31mTypeError\u001b[0m                                 Traceback (most recent call last)",
      "Cell \u001b[0;32mIn[48], line 1\u001b[0m\n\u001b[0;32m----> 1\u001b[0m \u001b[38;5;241;43m6\u001b[39;49m\u001b[43m \u001b[49m\u001b[38;5;241;43m+\u001b[39;49m\u001b[43m \u001b[49m\u001b[38;5;124;43m'\u001b[39;49m\u001b[38;5;124;43ma\u001b[39;49m\u001b[38;5;124;43m'\u001b[39;49m\n",
      "\u001b[0;31mTypeError\u001b[0m: unsupported operand type(s) for +: 'int' and 'str'"
     ]
    }
   ],
   "source": [
    "6 + 'a' "
   ]
  },
  {
   "cell_type": "markdown",
   "id": "24745dff",
   "metadata": {},
   "source": [
    "<h4> Referring to the 12th item of a list that has only 10 items gives the following error:<br></h4>\n",
    "    IndexError: list index out of range"
   ]
  },
  {
   "cell_type": "code",
   "execution_count": 50,
   "id": "d73ab838",
   "metadata": {},
   "outputs": [
    {
     "ename": "IndexError",
     "evalue": "list index out of range",
     "output_type": "error",
     "traceback": [
      "\u001b[0;31m---------------------------------------------------------------------------\u001b[0m",
      "\u001b[0;31mIndexError\u001b[0m                                Traceback (most recent call last)",
      "Cell \u001b[0;32mIn[50], line 2\u001b[0m\n\u001b[1;32m      1\u001b[0m testList \u001b[38;5;241m=\u001b[39m [\u001b[38;5;241m1\u001b[39m, \u001b[38;5;241m2\u001b[39m, \u001b[38;5;241m3\u001b[39m, \u001b[38;5;241m4\u001b[39m, \u001b[38;5;241m5\u001b[39m, \u001b[38;5;241m6\u001b[39m, \u001b[38;5;241m7\u001b[39m, \u001b[38;5;241m8\u001b[39m, \u001b[38;5;241m9\u001b[39m, \u001b[38;5;241m10\u001b[39m]\n\u001b[0;32m----> 2\u001b[0m \u001b[38;5;28mprint\u001b[39m(\u001b[43mtestList\u001b[49m\u001b[43m[\u001b[49m\u001b[38;5;241;43m12\u001b[39;49m\u001b[43m]\u001b[49m)\n",
      "\u001b[0;31mIndexError\u001b[0m: list index out of range"
     ]
    }
   ],
   "source": [
    "testList = [1, 2, 3, 4, 5, 6, 7, 8, 9, 10]\n",
    "print(testList[12])"
   ]
  },
  {
   "cell_type": "markdown",
   "id": "75eba9d7",
   "metadata": {},
   "source": [
    "<h4> Using a value that is out ofrange for a function’s \n",
    "input, such as calling math.sqrt(-1.0)\n",
    "gives the following error:<br></h4>\n",
    "    ValueError: math domain error"
   ]
  },
  {
   "cell_type": "code",
   "execution_count": 52,
   "id": "00acad37",
   "metadata": {},
   "outputs": [
    {
     "ename": "ValueError",
     "evalue": "math domain error",
     "output_type": "error",
     "traceback": [
      "\u001b[0;31m---------------------------------------------------------------------------\u001b[0m",
      "\u001b[0;31mValueError\u001b[0m                                Traceback (most recent call last)",
      "Cell \u001b[0;32mIn[52], line 2\u001b[0m\n\u001b[1;32m      1\u001b[0m \u001b[38;5;28;01mimport\u001b[39;00m \u001b[38;5;21;01mmath\u001b[39;00m\n\u001b[0;32m----> 2\u001b[0m result \u001b[38;5;241m=\u001b[39m \u001b[43mmath\u001b[49m\u001b[38;5;241;43m.\u001b[39;49m\u001b[43msqrt\u001b[49m\u001b[43m(\u001b[49m\u001b[38;5;241;43m-\u001b[39;49m\u001b[38;5;241;43m1.0\u001b[39;49m\u001b[43m)\u001b[49m\n\u001b[1;32m      3\u001b[0m \u001b[38;5;28mprint\u001b[39m(result)\n",
      "\u001b[0;31mValueError\u001b[0m: math domain error"
     ]
    }
   ],
   "source": [
    "import math\n",
    "result = math.sqrt(-1.0)\n",
    "print(result) "
   ]
  },
  {
   "cell_type": "markdown",
   "id": "c536113c",
   "metadata": {},
   "source": [
    "<h4> Using an undeclared variable, such as print(x)\n",
    "when x has not been defined\n",
    "gives the following error:<br></h4>\n",
    "  NameError: name 'x' is not defined"
   ]
  },
  {
   "cell_type": "code",
   "execution_count": 53,
   "id": "e1135a25",
   "metadata": {},
   "outputs": [
    {
     "ename": "NameError",
     "evalue": "name 'x' is not defined",
     "output_type": "error",
     "traceback": [
      "\u001b[0;31m---------------------------------------------------------------------------\u001b[0m",
      "\u001b[0;31mNameError\u001b[0m                                 Traceback (most recent call last)",
      "Cell \u001b[0;32mIn[53], line 1\u001b[0m\n\u001b[0;32m----> 1\u001b[0m \u001b[38;5;28mprint\u001b[39m(\u001b[43mx\u001b[49m)\n",
      "\u001b[0;31mNameError\u001b[0m: name 'x' is not defined"
     ]
    }
   ],
   "source": [
    "print(x)"
   ]
  },
  {
   "cell_type": "markdown",
   "id": "84eb86ff",
   "metadata": {},
   "source": [
    "<h4> Trying to open a file that does not exist, such as \n",
    "mistyping the file name or looking in the wrong \n",
    "directory gives the following error:<br></h4>\n",
    "  FileNotFoundError: [Errno 2] No such file or directory: 'currencies1.txt'"
   ]
  },
  {
   "cell_type": "code",
   "execution_count": 59,
   "id": "0b6898e2",
   "metadata": {
    "scrolled": true
   },
   "outputs": [
    {
     "ename": "FileNotFoundError",
     "evalue": "[Errno 2] No such file or directory: 'currencies1.txt'",
     "output_type": "error",
     "traceback": [
      "\u001b[0;31m---------------------------------------------------------------------------\u001b[0m",
      "\u001b[0;31mFileNotFoundError\u001b[0m                         Traceback (most recent call last)",
      "Cell \u001b[0;32mIn[59], line 1\u001b[0m\n\u001b[0;32m----> 1\u001b[0m \u001b[38;5;28;01mwith\u001b[39;00m \u001b[38;5;28;43mopen\u001b[39;49m\u001b[43m(\u001b[49m\u001b[38;5;124;43m\"\u001b[39;49m\u001b[38;5;124;43mcurrencies1.txt\u001b[39;49m\u001b[38;5;124;43m\"\u001b[39;49m\u001b[43m)\u001b[49m \u001b[38;5;28;01mas\u001b[39;00m file:\n\u001b[1;32m      2\u001b[0m     \u001b[38;5;28;01mfor\u001b[39;00m eachLine \u001b[38;5;129;01min\u001b[39;00m file:\n\u001b[1;32m      3\u001b[0m         splittedData \u001b[38;5;241m=\u001b[39m eachLine\u001b[38;5;241m.\u001b[39msplit(\u001b[38;5;124m\"\u001b[39m\u001b[38;5;130;01m\\t\u001b[39;00m\u001b[38;5;124m\"\u001b[39m)\n",
      "File \u001b[0;32m~/anaconda3/lib/python3.10/site-packages/IPython/core/interactiveshell.py:282\u001b[0m, in \u001b[0;36m_modified_open\u001b[0;34m(file, *args, **kwargs)\u001b[0m\n\u001b[1;32m    275\u001b[0m \u001b[38;5;28;01mif\u001b[39;00m file \u001b[38;5;129;01min\u001b[39;00m {\u001b[38;5;241m0\u001b[39m, \u001b[38;5;241m1\u001b[39m, \u001b[38;5;241m2\u001b[39m}:\n\u001b[1;32m    276\u001b[0m     \u001b[38;5;28;01mraise\u001b[39;00m \u001b[38;5;167;01mValueError\u001b[39;00m(\n\u001b[1;32m    277\u001b[0m         \u001b[38;5;124mf\u001b[39m\u001b[38;5;124m\"\u001b[39m\u001b[38;5;124mIPython won\u001b[39m\u001b[38;5;124m'\u001b[39m\u001b[38;5;124mt let you open fd=\u001b[39m\u001b[38;5;132;01m{\u001b[39;00mfile\u001b[38;5;132;01m}\u001b[39;00m\u001b[38;5;124m by default \u001b[39m\u001b[38;5;124m\"\u001b[39m\n\u001b[1;32m    278\u001b[0m         \u001b[38;5;124m\"\u001b[39m\u001b[38;5;124mas it is likely to crash IPython. If you know what you are doing, \u001b[39m\u001b[38;5;124m\"\u001b[39m\n\u001b[1;32m    279\u001b[0m         \u001b[38;5;124m\"\u001b[39m\u001b[38;5;124myou can use builtins\u001b[39m\u001b[38;5;124m'\u001b[39m\u001b[38;5;124m open.\u001b[39m\u001b[38;5;124m\"\u001b[39m\n\u001b[1;32m    280\u001b[0m     )\n\u001b[0;32m--> 282\u001b[0m \u001b[38;5;28;01mreturn\u001b[39;00m \u001b[43mio_open\u001b[49m\u001b[43m(\u001b[49m\u001b[43mfile\u001b[49m\u001b[43m,\u001b[49m\u001b[43m \u001b[49m\u001b[38;5;241;43m*\u001b[39;49m\u001b[43margs\u001b[49m\u001b[43m,\u001b[49m\u001b[43m \u001b[49m\u001b[38;5;241;43m*\u001b[39;49m\u001b[38;5;241;43m*\u001b[39;49m\u001b[43mkwargs\u001b[49m\u001b[43m)\u001b[49m\n",
      "\u001b[0;31mFileNotFoundError\u001b[0m: [Errno 2] No such file or directory: 'currencies1.txt'"
     ]
    }
   ],
   "source": [
    "with open(\"currencies1.txt\") as file:\n",
    "    for eachLine in file:\n",
    "        splittedData = eachLine.split(\"\\t\")\n",
    "        print(splittedData)"
   ]
  },
  {
   "cell_type": "markdown",
   "id": "72358fd5",
   "metadata": {},
   "source": [
    "<h3> Task 10 </h3>\n",
    "<h4> Assume that the string letters is already defined as \n",
    "'abcdefghijklmnopqrstuvwxyz'. Write a function called frequencies() \n",
    "that takes a string as its only parameter, and returns a list of integers, showing the \n",
    "number of times each character appears in the text. Your function may ignore any \n",
    "characters that are not in letters.</h4>"
   ]
  },
  {
   "cell_type": "code",
   "execution_count": 70,
   "id": "9f19ef0f",
   "metadata": {},
   "outputs": [
    {
     "name": "stdout",
     "output_type": "stream",
     "text": [
      "[1, 1, 1, 3, 5, 1, 1, 2, 1, 0, 1, 0, 1, 2, 4, 0, 1, 2, 0, 2, 1, 0, 1, 1, 0, 0]\n",
      "[1, 0, 0, 0, 1, 0, 0, 0, 0, 0, 0, 1, 0, 0, 0, 2, 0, 0, 0, 0, 0, 0, 0, 0, 0, 0]\n"
     ]
    }
   ],
   "source": [
    "# Function that counts letters and returns their frequencies\n",
    "def frequencies(stringText):\n",
    "    # declares string letters with every letter of the alphabet\n",
    "    letters = 'abcdefghijklmnopqrstuvwxyz'\n",
    "    \n",
    "    # List to store the frequency of letters\n",
    "    totalCount = []\n",
    "    \n",
    "    # Loop that iterates through each letter from the a-z\n",
    "    for eachLetter in letters:\n",
    "        #Counts the frequency of each letter in the given text and stores it\n",
    "        letterFrequency = stringText.count(eachLetter)\n",
    "        # Appends frequency of each letter to the list\n",
    "        totalCount.append(letterFrequency)\n",
    "    # Returns the list of frequency of letters        \n",
    "    return totalCount\n",
    "\n",
    "# Sample texts to test the code\n",
    "sampleText1 = \"The quick red fox got bored and went home.\"\n",
    "sampleText2 = \"apple\"\n",
    "\n",
    "# Calls the function frequencies and prints the returned value\n",
    "print(frequencies(sampleText1))\n",
    "print(frequencies(sampleText2))"
   ]
  },
  {
   "cell_type": "code",
   "execution_count": null,
   "id": "32c81fca",
   "metadata": {},
   "outputs": [],
   "source": []
  }
 ],
 "metadata": {
  "kernelspec": {
   "display_name": "Python 3 (ipykernel)",
   "language": "python",
   "name": "python3"
  },
  "language_info": {
   "codemirror_mode": {
    "name": "ipython",
    "version": 3
   },
   "file_extension": ".py",
   "mimetype": "text/x-python",
   "name": "python",
   "nbconvert_exporter": "python",
   "pygments_lexer": "ipython3",
   "version": "3.10.9"
  }
 },
 "nbformat": 4,
 "nbformat_minor": 5
}
